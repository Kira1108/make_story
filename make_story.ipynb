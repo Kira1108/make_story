{
 "cells": [
  {
   "cell_type": "markdown",
   "metadata": {},
   "source": [
    "**回复参考表格**\n",
    "\n",
    "| 贷款批准日期       | 贷款还款日期       | 金额    | 车系     | 利率     | 借款人姓名   | 贷款状态   |\n",
    "|--------------------|--------------------|---------|----------|----------|--------------|------------|\n",
    "| 2023-01-15         | 2026-01-15         | $20,000 | Tesla Model Y    | 3.5%     | 约翰·多伊    | 已批准     |\n",
    "| 2023-02-20         | 2026-02-20         | $25,000 | 宝马5系    | 4.0%     | 约翰·多伊    | 已批准     |\n",
    "| 2023-03-10         | 2026-03-10         | $30,000 | 保时捷 911    | 3.8%     | 约翰·多伊  | 已批准     |\n",
    "| 2023-04-05         | 2026-04-05         | $22,000 | 丰田凯美瑞    | 3.9%     | 约翰·多伊  | 已批准     |\n",
    "| 2023-05-18         | 2026-05-18         | $28,000 | 奔驰S级    | 4.2%     | 约翰·多伊 | 已批准     |"
   ]
  },
  {
   "cell_type": "code",
   "execution_count": null,
   "metadata": {},
   "outputs": [
    {
     "name": "stdout",
     "output_type": "stream",
     "text": [
      "User:  你好\n",
      "Agent:  您好！有什么可以帮助您的吗？\n",
      "--------------------\n",
      "User:  天气真特么不错啊\n",
      "Agent:  是的，天气很好。您计划出去玩还是做其他事情呢？\n",
      "--------------------\n",
      "User:  想查一下我的订单\n",
      "Agent:  好的，请提供您的18位身份证号码以便验证身份。\n",
      "--------------------\n",
      "User:  652301198202嗯，然后是137890\n",
      "Agent:  请再说一遍后几位数字确认一下。您刚才说的应该是652301198202137890吧？\n",
      "--------------------\n",
      "User:  是的\n",
      "[Tool calling] Verifying Identity:  652301198202137890\n",
      "Agent:  好的，你的身份已验证通过，尾号7890。\n",
      "--------------------\n",
      "User:  我最后一笔还款是什么时间啊？\n",
      "[Tool calling]Querying loan info for user with ID number: 652301198202137890\n",
      "Agent:  您的最后一笔还款日期是2026年5月18日。您还有其他问题吗？\n",
      "--------------------\n",
      "User:  我都买过一些什么车型啊？在你们公司\n",
      "Agent:  您之前购买了特斯拉Model Y、宝马5系、保时捷911、丰田凯美瑞和奔驰S级这五款车型。有需要进一步帮助的吗？\n",
      "--------------------\n",
      "User:  请问当时贷款人的名字写的是谁啊？\n",
      "Agent:  根据记录，所有贷款申请上的借款人姓名都是“约翰·多伊”。您确认一下这个名字是否正确？如果有任何不同，请告知我具体信息以便更正。\n",
      "--------------------\n"
     ]
    }
   ],
   "source": [
    "from composed import CompoundAgent\n",
    "\n",
    "agent = CompoundAgent()\n",
    "\n",
    "story_line = [\n",
    "    \"你好\",\n",
    "    \"天气真特么不错啊\",\n",
    "    \"想查一下我的订单\",\n",
    "    \"652301198202嗯，然后是137890\",\n",
    "    \"是的\",\n",
    "    \"我最后一笔还款是什么时间啊？\",\n",
    "    \"我都买过一些什么车型啊？在你们公司\",\n",
    "    \"请问当时贷款人的名字写的是谁啊？\"\n",
    "]\n",
    "\n",
    "for msg in story_line:\n",
    "    print(\"User: \", msg)\n",
    "    response = agent.chat(msg)\n",
    "    print(\"Agent: \", response)\n",
    "    print(\"--------------------\")"
   ]
  }
 ],
 "metadata": {
  "kernelspec": {
   "display_name": "base",
   "language": "python",
   "name": "python3"
  },
  "language_info": {
   "codemirror_mode": {
    "name": "ipython",
    "version": 3
   },
   "file_extension": ".py",
   "mimetype": "text/x-python",
   "name": "python",
   "nbconvert_exporter": "python",
   "pygments_lexer": "ipython3",
   "version": "3.10.9"
  }
 },
 "nbformat": 4,
 "nbformat_minor": 2
}
